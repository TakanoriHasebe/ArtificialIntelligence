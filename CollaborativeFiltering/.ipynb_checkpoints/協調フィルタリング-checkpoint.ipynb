{
 "cells": [
  {
   "cell_type": "code",
   "execution_count": 1,
   "metadata": {},
   "outputs": [],
   "source": [
    "dataset = {\n",
    "    '山田': {'カレー': 2.5,\n",
    "           'ラーメン': 3.5,\n",
    "           'チャーハン': 3.0,\n",
    "           '寿司': 3.5,\n",
    "           '牛丼': 2.5,\n",
    "           'うどん': 3.0},\n",
    "    '田中': {'カレー': 3.0,\n",
    "           'ラーメン': 3.5,\n",
    "           'チャーハン': 1.5,\n",
    "           '寿司': 5.0,\n",
    "           'うどん': 3.0,\n",
    "           '牛丼': 3.5},\n",
    "    '川村': {'カレー': 3.0,\n",
    "           'ラーメン': 4.0,\n",
    "           'チャーハン': 2.0,\n",
    "           '寿司': 3.0,\n",
    "           'うどん': 3.0,\n",
    "           '牛丼': 2.0},\n",
    "    '鈴木': {'カレー': 3.0,\n",
    "           'ラーメン': 4.0,\n",
    "           'うどん': 3.0,\n",
    "           '寿司': 5.0,\n",
    "           '牛丼': 3.5},\n",
    "    '下林': {'ラーメン': 4.5,\n",
    "           '牛丼': 1.0,\n",
    "           '寿司': 4.0}\n",
    "}"
   ]
  },
  {
   "cell_type": "code",
   "execution_count": 7,
   "metadata": {},
   "outputs": [],
   "source": [
    "# pandasからSeries, DataFrameの読み込み\n",
    "import pandas as pd\n",
    "from pandas import Series, DataFrame"
   ]
  },
  {
   "cell_type": "code",
   "execution_count": 8,
   "metadata": {},
   "outputs": [],
   "source": [
    "df = DataFrame(dataset)"
   ]
  },
  {
   "cell_type": "code",
   "execution_count": 12,
   "metadata": {},
   "outputs": [],
   "source": [
    "df = df.fillna(0)"
   ]
  },
  {
   "cell_type": "code",
   "execution_count": 14,
   "metadata": {},
   "outputs": [
    {
     "data": {
      "text/html": [
       "<div>\n",
       "<style scoped>\n",
       "    .dataframe tbody tr th:only-of-type {\n",
       "        vertical-align: middle;\n",
       "    }\n",
       "\n",
       "    .dataframe tbody tr th {\n",
       "        vertical-align: top;\n",
       "    }\n",
       "\n",
       "    .dataframe thead th {\n",
       "        text-align: right;\n",
       "    }\n",
       "</style>\n",
       "<table border=\"1\" class=\"dataframe\">\n",
       "  <thead>\n",
       "    <tr style=\"text-align: right;\">\n",
       "      <th></th>\n",
       "      <th>山田</th>\n",
       "      <th>田中</th>\n",
       "      <th>佐藤</th>\n",
       "      <th>中村</th>\n",
       "      <th>川村</th>\n",
       "      <th>鈴木</th>\n",
       "      <th>下林</th>\n",
       "    </tr>\n",
       "  </thead>\n",
       "  <tbody>\n",
       "    <tr>\n",
       "      <th>うどん</th>\n",
       "      <td>3.0</td>\n",
       "      <td>3.0</td>\n",
       "      <td>4.0</td>\n",
       "      <td>4.5</td>\n",
       "      <td>3.0</td>\n",
       "      <td>3.0</td>\n",
       "      <td>0.0</td>\n",
       "    </tr>\n",
       "    <tr>\n",
       "      <th>カレー</th>\n",
       "      <td>2.5</td>\n",
       "      <td>3.0</td>\n",
       "      <td>2.5</td>\n",
       "      <td>0.0</td>\n",
       "      <td>3.0</td>\n",
       "      <td>3.0</td>\n",
       "      <td>0.0</td>\n",
       "    </tr>\n",
       "    <tr>\n",
       "      <th>チャーハン</th>\n",
       "      <td>3.0</td>\n",
       "      <td>1.5</td>\n",
       "      <td>0.0</td>\n",
       "      <td>3.0</td>\n",
       "      <td>2.0</td>\n",
       "      <td>0.0</td>\n",
       "      <td>0.0</td>\n",
       "    </tr>\n",
       "    <tr>\n",
       "      <th>ラーメン</th>\n",
       "      <td>3.5</td>\n",
       "      <td>3.5</td>\n",
       "      <td>3.0</td>\n",
       "      <td>3.5</td>\n",
       "      <td>4.0</td>\n",
       "      <td>4.0</td>\n",
       "      <td>4.5</td>\n",
       "    </tr>\n",
       "    <tr>\n",
       "      <th>寿司</th>\n",
       "      <td>3.5</td>\n",
       "      <td>5.0</td>\n",
       "      <td>3.5</td>\n",
       "      <td>4.0</td>\n",
       "      <td>3.0</td>\n",
       "      <td>5.0</td>\n",
       "      <td>4.0</td>\n",
       "    </tr>\n",
       "    <tr>\n",
       "      <th>牛丼</th>\n",
       "      <td>2.5</td>\n",
       "      <td>3.5</td>\n",
       "      <td>0.0</td>\n",
       "      <td>2.5</td>\n",
       "      <td>2.0</td>\n",
       "      <td>3.5</td>\n",
       "      <td>1.0</td>\n",
       "    </tr>\n",
       "  </tbody>\n",
       "</table>\n",
       "</div>"
      ],
      "text/plain": [
       "        山田   田中   佐藤   中村   川村   鈴木   下林\n",
       "うどん    3.0  3.0  4.0  4.5  3.0  3.0  0.0\n",
       "カレー    2.5  3.0  2.5  0.0  3.0  3.0  0.0\n",
       "チャーハン  3.0  1.5  0.0  3.0  2.0  0.0  0.0\n",
       "ラーメン   3.5  3.5  3.0  3.5  4.0  4.0  4.5\n",
       "寿司     3.5  5.0  3.5  4.0  3.0  5.0  4.0\n",
       "牛丼     2.5  3.5  0.0  2.5  2.0  3.5  1.0"
      ]
     },
     "execution_count": 14,
     "metadata": {},
     "output_type": "execute_result"
    }
   ],
   "source": [
    "df"
   ]
  },
  {
   "cell_type": "code",
   "execution_count": 48,
   "metadata": {
    "scrolled": true
   },
   "outputs": [
    {
     "name": "stdout",
     "output_type": "stream",
     "text": [
      "山田\n",
      "('下林', 0.7957438376509584)\n",
      "('中村', 0.7012868733182767)\n",
      "('川村', 0.5940885257860047)\n",
      "田中\n",
      "('鈴木', 0.9587849535741975)\n",
      "('下林', 0.7038607330821072)\n",
      "('佐藤', 0.5310078242953823)\n",
      "佐藤\n",
      "('川村', 0.783868693007469)\n",
      "('鈴木', 0.6041053397438865)\n",
      "('田中', 0.5310078242953823)\n",
      "中村\n",
      "('山田', 0.7012868733182767)\n",
      "('下林', 0.38939119615714984)\n",
      "('佐藤', 0.32833626696616136)\n",
      "川村\n",
      "('佐藤', 0.7838686930074691)\n",
      "('下林', 0.6408284286269933)\n",
      "('山田', 0.5940885257860046)\n",
      "鈴木\n",
      "('田中', 0.9587849535741975)\n",
      "('下林', 0.6872691128457613)\n",
      "('佐藤', 0.6041053397438865)\n",
      "下林\n",
      "('山田', 0.7957438376509584)\n",
      "('田中', 0.7038607330821071)\n",
      "('鈴木', 0.6872691128457613)\n"
     ]
    }
   ],
   "source": [
    "result = list()\n",
    "for name in df.columns:\n",
    "    result_dict = {}\n",
    "    # print(name)\n",
    "    for name_compare in df.columns:\n",
    "        # print(name_compare)\n",
    "        result_dict[name_compare] = np.corrcoef(df[name].values, df[name_compare].values)[0][1]\n",
    "    # print(result_dict)\n",
    "    # print(sorted(result_dict.items(), key=lambda x: x[1], reverse = True))\n",
    "    print(name)\n",
    "    for i in sorted(result_dict.items(), key=lambda x: x[1], reverse = True)[1:4]:\n",
    "        print(i)\n",
    "    print('')"
   ]
  },
  {
   "cell_type": "code",
   "execution_count": null,
   "metadata": {},
   "outputs": [],
   "source": []
  }
 ],
 "metadata": {
  "kernelspec": {
   "display_name": "Python 3",
   "language": "python",
   "name": "python3"
  },
  "language_info": {
   "codemirror_mode": {
    "name": "ipython",
    "version": 3
   },
   "file_extension": ".py",
   "mimetype": "text/x-python",
   "name": "python",
   "nbconvert_exporter": "python",
   "pygments_lexer": "ipython3",
   "version": "3.6.6"
  }
 },
 "nbformat": 4,
 "nbformat_minor": 2
}
