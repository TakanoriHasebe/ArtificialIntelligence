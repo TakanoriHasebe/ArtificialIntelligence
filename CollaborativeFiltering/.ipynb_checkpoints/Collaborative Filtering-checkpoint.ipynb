{
 "cells": [
  {
   "cell_type": "markdown",
   "metadata": {},
   "source": [
    "### NaNを0で埋める"
   ]
  },
  {
   "cell_type": "code",
   "execution_count": 1,
   "metadata": {},
   "outputs": [],
   "source": [
    "import numpy as np\n",
    "\n",
    "dataset = {\n",
    "    '山田': {'カレー': 2.5,\n",
    "           'ラーメン': 3.5,\n",
    "           'チャーハン': 3.0,\n",
    "           '寿司': 3.5,\n",
    "           '牛丼': 2.5,\n",
    "           'うどん': 3.0},\n",
    "    '田中': {'カレー': 3.0,\n",
    "           'ラーメン': 3.5,\n",
    "           'チャーハン': 1.5,\n",
    "           '寿司': 5.0,\n",
    "           'うどん': 3.0,\n",
    "           '牛丼': 3.5},\n",
    "    '川村': {'カレー': 3.0,\n",
    "           'ラーメン': 4.0,\n",
    "           'チャーハン': 2.0,\n",
    "           '寿司': 3.0,\n",
    "           'うどん': 3.0,\n",
    "           '牛丼': 2.0},\n",
    "    '鈴木': {'カレー': 3.0,\n",
    "           'ラーメン': 4.0,\n",
    "           'うどん': 3.0,\n",
    "           '寿司': 5.0,\n",
    "           '牛丼': 3.5},\n",
    "    '下林': {'ラーメン': 4.5,\n",
    "           '牛丼': 1.0,\n",
    "           '寿司': 4.0}}"
   ]
  },
  {
   "cell_type": "code",
   "execution_count": 2,
   "metadata": {},
   "outputs": [],
   "source": [
    "# pandasからSeries, DataFrameの読み込み\n",
    "import pandas as pd\n",
    "from pandas import Series, DataFrame"
   ]
  },
  {
   "cell_type": "code",
   "execution_count": 3,
   "metadata": {},
   "outputs": [],
   "source": [
    "df = DataFrame(dataset)"
   ]
  },
  {
   "cell_type": "code",
   "execution_count": 4,
   "metadata": {},
   "outputs": [],
   "source": [
    "df = df.fillna(0)"
   ]
  },
  {
   "cell_type": "code",
   "execution_count": 5,
   "metadata": {},
   "outputs": [
    {
     "data": {
      "text/html": [
       "<div>\n",
       "<style scoped>\n",
       "    .dataframe tbody tr th:only-of-type {\n",
       "        vertical-align: middle;\n",
       "    }\n",
       "\n",
       "    .dataframe tbody tr th {\n",
       "        vertical-align: top;\n",
       "    }\n",
       "\n",
       "    .dataframe thead th {\n",
       "        text-align: right;\n",
       "    }\n",
       "</style>\n",
       "<table border=\"1\" class=\"dataframe\">\n",
       "  <thead>\n",
       "    <tr style=\"text-align: right;\">\n",
       "      <th></th>\n",
       "      <th>山田</th>\n",
       "      <th>田中</th>\n",
       "      <th>川村</th>\n",
       "      <th>鈴木</th>\n",
       "      <th>下林</th>\n",
       "    </tr>\n",
       "  </thead>\n",
       "  <tbody>\n",
       "    <tr>\n",
       "      <th>うどん</th>\n",
       "      <td>3.0</td>\n",
       "      <td>3.0</td>\n",
       "      <td>3.0</td>\n",
       "      <td>3.0</td>\n",
       "      <td>0.0</td>\n",
       "    </tr>\n",
       "    <tr>\n",
       "      <th>カレー</th>\n",
       "      <td>2.5</td>\n",
       "      <td>3.0</td>\n",
       "      <td>3.0</td>\n",
       "      <td>3.0</td>\n",
       "      <td>0.0</td>\n",
       "    </tr>\n",
       "    <tr>\n",
       "      <th>チャーハン</th>\n",
       "      <td>3.0</td>\n",
       "      <td>1.5</td>\n",
       "      <td>2.0</td>\n",
       "      <td>0.0</td>\n",
       "      <td>0.0</td>\n",
       "    </tr>\n",
       "    <tr>\n",
       "      <th>ラーメン</th>\n",
       "      <td>3.5</td>\n",
       "      <td>3.5</td>\n",
       "      <td>4.0</td>\n",
       "      <td>4.0</td>\n",
       "      <td>4.5</td>\n",
       "    </tr>\n",
       "    <tr>\n",
       "      <th>寿司</th>\n",
       "      <td>3.5</td>\n",
       "      <td>5.0</td>\n",
       "      <td>3.0</td>\n",
       "      <td>5.0</td>\n",
       "      <td>4.0</td>\n",
       "    </tr>\n",
       "    <tr>\n",
       "      <th>牛丼</th>\n",
       "      <td>2.5</td>\n",
       "      <td>3.5</td>\n",
       "      <td>2.0</td>\n",
       "      <td>3.5</td>\n",
       "      <td>1.0</td>\n",
       "    </tr>\n",
       "  </tbody>\n",
       "</table>\n",
       "</div>"
      ],
      "text/plain": [
       "        山田   田中   川村   鈴木   下林\n",
       "うどん    3.0  3.0  3.0  3.0  0.0\n",
       "カレー    2.5  3.0  3.0  3.0  0.0\n",
       "チャーハン  3.0  1.5  2.0  0.0  0.0\n",
       "ラーメン   3.5  3.5  4.0  4.0  4.5\n",
       "寿司     3.5  5.0  3.0  5.0  4.0\n",
       "牛丼     2.5  3.5  2.0  3.5  1.0"
      ]
     },
     "execution_count": 5,
     "metadata": {},
     "output_type": "execute_result"
    }
   ],
   "source": [
    "df"
   ]
  },
  {
   "cell_type": "code",
   "execution_count": 6,
   "metadata": {
    "scrolled": true
   },
   "outputs": [
    {
     "name": "stdout",
     "output_type": "stream",
     "text": [
      "山田\n",
      "('下林', 0.6350006350009525)\n",
      "('川村', 0.5809475019311127)\n",
      "('鈴木', 0.5457051563317492)\n",
      "\n",
      "田中\n",
      "('鈴木', 0.985184366143778)\n",
      "('下林', 0.8441622892989753)\n",
      "('山田', 0.4308202184276646)\n",
      "\n",
      "川村\n",
      "('山田', 0.5809475019311126)\n",
      "('鈴木', 0.5009794328681196)\n",
      "('下林', 0.4918693768379647)\n",
      "\n",
      "鈴木\n",
      "('田中', 0.9851843661437779)\n",
      "('下林', 0.8932596002688613)\n",
      "('山田', 0.5457051563317492)\n",
      "\n",
      "下林\n",
      "('鈴木', 0.8932596002688613)\n",
      "('田中', 0.8441622892989752)\n",
      "('山田', 0.6350006350009525)\n",
      "\n"
     ]
    }
   ],
   "source": [
    "from scipy.stats import spearmanr\n",
    "\n",
    "for name in df.columns:\n",
    "    result_dict = {}\n",
    "    # print(name)\n",
    "    for name_compare in df.columns:\n",
    "        # print(name_compare)\n",
    "        # result_dict[name_compare] = np.corrcoef(df[name].values, df[name_compare].values)[0][1]\n",
    "        result_dict[name_compare] = spearmanr(df[name].values, df[name_compare].values)[0]\n",
    "    # print(result_dict)\n",
    "    # print(sorted(result_dict.items(), key=lambda x: x[1], reverse = True))\n",
    "    print(name)\n",
    "    for i in sorted(result_dict.items(), key=lambda x: x[1], reverse = True)[1:4]:\n",
    "        print(i)\n",
    "    print('')"
   ]
  },
  {
   "cell_type": "markdown",
   "metadata": {},
   "source": [
    "### NaNをそのまま用いる"
   ]
  },
  {
   "cell_type": "code",
   "execution_count": 7,
   "metadata": {},
   "outputs": [],
   "source": [
    "import numpy as np\n",
    "\n",
    "dataset = {\n",
    "    '山田': {'カレー': 2.5,\n",
    "           'ラーメン': 3.5,\n",
    "           'チャーハン': 3.0,\n",
    "           '寿司': 3.5,\n",
    "           '牛丼': 2.5,\n",
    "           'うどん': 3.0},\n",
    "    '田中': {'カレー': 3.0,\n",
    "           'ラーメン': 3.5,\n",
    "           'チャーハン': 1.5,\n",
    "           '寿司': 5.0,\n",
    "           'うどん': 3.0,\n",
    "           '牛丼': 3.5},\n",
    "    '川村': {'カレー': 3.0,\n",
    "           'ラーメン': 4.0,\n",
    "           'チャーハン': 2.0,\n",
    "           '寿司': 3.0,\n",
    "           'うどん': 3.0,\n",
    "           '牛丼': 2.0},\n",
    "    '鈴木': {'カレー': 3.0,\n",
    "           'ラーメン': 4.0,\n",
    "           'うどん': 3.0,\n",
    "           '寿司': 5.0,\n",
    "           '牛丼': 3.5},\n",
    "    '下林': {'ラーメン': 4.5,\n",
    "           '牛丼': 1.0,\n",
    "           '寿司': 4.0}}"
   ]
  },
  {
   "cell_type": "code",
   "execution_count": 8,
   "metadata": {},
   "outputs": [],
   "source": [
    "df = DataFrame(dataset)"
   ]
  },
  {
   "cell_type": "code",
   "execution_count": 12,
   "metadata": {},
   "outputs": [
    {
     "data": {
      "text/html": [
       "<div>\n",
       "<style scoped>\n",
       "    .dataframe tbody tr th:only-of-type {\n",
       "        vertical-align: middle;\n",
       "    }\n",
       "\n",
       "    .dataframe tbody tr th {\n",
       "        vertical-align: top;\n",
       "    }\n",
       "\n",
       "    .dataframe thead th {\n",
       "        text-align: right;\n",
       "    }\n",
       "</style>\n",
       "<table border=\"1\" class=\"dataframe\">\n",
       "  <thead>\n",
       "    <tr style=\"text-align: right;\">\n",
       "      <th></th>\n",
       "      <th>山田</th>\n",
       "      <th>田中</th>\n",
       "      <th>川村</th>\n",
       "      <th>鈴木</th>\n",
       "      <th>下林</th>\n",
       "    </tr>\n",
       "  </thead>\n",
       "  <tbody>\n",
       "    <tr>\n",
       "      <th>うどん</th>\n",
       "      <td>3.0</td>\n",
       "      <td>3.0</td>\n",
       "      <td>3.0</td>\n",
       "      <td>3.0</td>\n",
       "      <td>NaN</td>\n",
       "    </tr>\n",
       "    <tr>\n",
       "      <th>カレー</th>\n",
       "      <td>2.5</td>\n",
       "      <td>3.0</td>\n",
       "      <td>3.0</td>\n",
       "      <td>3.0</td>\n",
       "      <td>NaN</td>\n",
       "    </tr>\n",
       "    <tr>\n",
       "      <th>チャーハン</th>\n",
       "      <td>3.0</td>\n",
       "      <td>1.5</td>\n",
       "      <td>2.0</td>\n",
       "      <td>NaN</td>\n",
       "      <td>NaN</td>\n",
       "    </tr>\n",
       "    <tr>\n",
       "      <th>ラーメン</th>\n",
       "      <td>3.5</td>\n",
       "      <td>3.5</td>\n",
       "      <td>4.0</td>\n",
       "      <td>4.0</td>\n",
       "      <td>4.5</td>\n",
       "    </tr>\n",
       "    <tr>\n",
       "      <th>寿司</th>\n",
       "      <td>3.5</td>\n",
       "      <td>5.0</td>\n",
       "      <td>3.0</td>\n",
       "      <td>5.0</td>\n",
       "      <td>4.0</td>\n",
       "    </tr>\n",
       "    <tr>\n",
       "      <th>牛丼</th>\n",
       "      <td>2.5</td>\n",
       "      <td>3.5</td>\n",
       "      <td>2.0</td>\n",
       "      <td>3.5</td>\n",
       "      <td>1.0</td>\n",
       "    </tr>\n",
       "  </tbody>\n",
       "</table>\n",
       "</div>"
      ],
      "text/plain": [
       "        山田   田中   川村   鈴木   下林\n",
       "うどん    3.0  3.0  3.0  3.0  NaN\n",
       "カレー    2.5  3.0  3.0  3.0  NaN\n",
       "チャーハン  3.0  1.5  2.0  NaN  NaN\n",
       "ラーメン   3.5  3.5  4.0  4.0  4.5\n",
       "寿司     3.5  5.0  3.0  5.0  4.0\n",
       "牛丼     2.5  3.5  2.0  3.5  1.0"
      ]
     },
     "execution_count": 12,
     "metadata": {},
     "output_type": "execute_result"
    }
   ],
   "source": [
    "df"
   ]
  },
  {
   "cell_type": "code",
   "execution_count": 15,
   "metadata": {},
   "outputs": [
    {
     "name": "stdout",
     "output_type": "stream",
     "text": [
      "山田\n",
      "田中\n",
      "川村\n",
      "鈴木\n",
      "下林\n"
     ]
    }
   ],
   "source": [
    "result_dict = {}\n",
    "for name in df.columns:\n",
    "    # print(name)\n",
    "    for name_compare in df.columns:\n",
    "        \n",
    "        if name == name_compare:\n",
    "            pass\n",
    "        else:\n",
    "            x = df[name]\n",
    "            y = df[name_compare]\n",
    "            bad = ~np.logical_or(np.isnan(x), np.isnan(y))\n",
    "            result_dict[name_compare] = np.corrcoef(np.compress(bad, x), np.compress(bad, y))[0][1]\n",
    "    print(name)\n",
    "    for i in sorted(result_dict.items(), key=lambda x: x[1], reverse = True)[0:3]:\n",
    "        print(i)\n",
    "    print('')  \n",
    "    "
   ]
  },
  {
   "cell_type": "code",
   "execution_count": null,
   "metadata": {},
   "outputs": [],
   "source": []
  },
  {
   "cell_type": "code",
   "execution_count": null,
   "metadata": {},
   "outputs": [],
   "source": []
  },
  {
   "cell_type": "code",
   "execution_count": null,
   "metadata": {},
   "outputs": [],
   "source": []
  },
  {
   "cell_type": "code",
   "execution_count": null,
   "metadata": {},
   "outputs": [],
   "source": []
  },
  {
   "cell_type": "code",
   "execution_count": null,
   "metadata": {},
   "outputs": [],
   "source": []
  }
 ],
 "metadata": {
  "kernelspec": {
   "display_name": "Python 3",
   "language": "python",
   "name": "python3"
  },
  "language_info": {
   "codemirror_mode": {
    "name": "ipython",
    "version": 3
   },
   "file_extension": ".py",
   "mimetype": "text/x-python",
   "name": "python",
   "nbconvert_exporter": "python",
   "pygments_lexer": "ipython3",
   "version": "3.6.6"
  }
 },
 "nbformat": 4,
 "nbformat_minor": 2
}
