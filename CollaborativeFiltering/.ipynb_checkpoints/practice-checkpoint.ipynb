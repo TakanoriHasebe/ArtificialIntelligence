{
 "cells": [
  {
   "cell_type": "code",
   "execution_count": 2,
   "metadata": {},
   "outputs": [],
   "source": [
    "import numpy as np\n",
    "\n",
    "x = np.array([5, 1, 6, 9, 10, np.nan, 1, 1, np.nan])\n",
    "y = np.array([4, 4, 5, np.nan, 6, 2, 1, 8, 1])"
   ]
  },
  {
   "cell_type": "code",
   "execution_count": 3,
   "metadata": {},
   "outputs": [],
   "source": [
    "bad = ~np.logical_or(np.isnan(x), np.isnan(y))"
   ]
  },
  {
   "cell_type": "code",
   "execution_count": 4,
   "metadata": {},
   "outputs": [
    {
     "name": "stdout",
     "output_type": "stream",
     "text": [
      "[ 5.  1.  6. 10.  1.  1.]\n",
      "[4. 4. 5. 6. 1. 8.]\n"
     ]
    }
   ],
   "source": [
    "print(np.compress(bad, x))  # array([  5.,   1.,   6.,  10.,   1.,   1.])\n",
    "print(np.compress(bad, y))  # array([ 4.,  4.,  5.,  6.,  1.,  8.])"
   ]
  },
  {
   "cell_type": "code",
   "execution_count": 5,
   "metadata": {},
   "outputs": [
    {
     "data": {
      "text/plain": [
       "array([[1.        , 0.25514786],\n",
       "       [0.25514786, 1.        ]])"
      ]
     },
     "execution_count": 5,
     "metadata": {},
     "output_type": "execute_result"
    }
   ],
   "source": [
    "# 相関係数を算出\n",
    "np.corrcoef(np.compress(bad, x), np.compress(bad, y))"
   ]
  },
  {
   "cell_type": "code",
   "execution_count": null,
   "metadata": {},
   "outputs": [],
   "source": []
  }
 ],
 "metadata": {
  "kernelspec": {
   "display_name": "Python 3",
   "language": "python",
   "name": "python3"
  },
  "language_info": {
   "codemirror_mode": {
    "name": "ipython",
    "version": 3
   },
   "file_extension": ".py",
   "mimetype": "text/x-python",
   "name": "python",
   "nbconvert_exporter": "python",
   "pygments_lexer": "ipython3",
   "version": "3.6.6"
  }
 },
 "nbformat": 4,
 "nbformat_minor": 2
}
